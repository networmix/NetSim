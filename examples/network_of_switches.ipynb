{
 "cells": [
  {
   "cell_type": "code",
   "execution_count": null,
   "metadata": {},
   "outputs": [],
   "source": [
    "import statistics\n",
    "\n",
    "import pandas as pd\n",
    "import seaborn as sns\n",
    "import matplotlib.pyplot as plt\n",
    "\n",
    "from netsim.netsim_base import (\n",
    "    PacketSink,\n",
    "    PacketSource,\n",
    "    PacketSourceProfile,\n",
    "    PacketInterfaceTx,\n",
    ")\n",
    "from netsim.netsim_switch import PacketProcessor, PacketSwitch\n",
    "from netsim.netsim_simulator import NetSim\n",
    "\n",
    "%matplotlib inline\n",
    "sns.set(rc={'figure.figsize':(15,10), 'figure.dpi': 100})"
   ]
  },
  {
   "cell_type": "code",
   "execution_count": null,
   "metadata": {},
   "outputs": [],
   "source": [
    "sim = NetSim()"
   ]
  },
  {
   "cell_type": "code",
   "execution_count": null,
   "metadata": {},
   "outputs": [],
   "source": [
    "source_params = {'arrival_distr_params': {'lambda': 1000},\n",
    "                 'arrival_time_distr': 'Exponential',\n",
    "                 'flow_distr': 'Uniform',\n",
    "                 'flow_distr_params': {'a': 1,\n",
    "                                       'b': 1000},\n",
    "                 'size_distr': 'Exponential',\n",
    "                 'size_distr_params': {'lambda': 0.002}}\n",
    "source_profile = PacketSourceProfile.from_dict(source_params)"
   ]
  },
  {
   "cell_type": "code",
   "execution_count": null,
   "metadata": {},
   "outputs": [],
   "source": [
    "sw1 = PacketSwitch(sim.ctx, \"SW1\")\n",
    "sw2 = PacketSwitch(sim.ctx, \"SW2\")\n",
    "sink = PacketSink(sim.ctx)\n",
    "\n",
    "source.subscribe(sw1.create_interface_rx(0, 0.0))\n",
    "\n",
    "sw1.create_interface_tx(1, 20 ** 20, 100).subscribe(sw2.create_interface_rx(1, 0.0))\n",
    "sw1.create_interface_tx(2, 20 ** 20, 100).subscribe(sw2.create_interface_rx(2, 0.0))\n",
    "\n",
    "sw2.create_interface_tx(0, 2 ** 20).subscribe(sink)\n",
    "\n",
    "pp1 = sw1.create_packet_processor()\n",
    "pp2 = sw2.create_packet_processor()"
   ]
  },
  {
   "cell_type": "code",
   "execution_count": null,
   "metadata": {},
   "outputs": [],
   "source": [
    "results = []\n",
    "until_time=10"
   ]
  },
  {
   "cell_type": "code",
   "execution_count": null,
   "metadata": {},
   "outputs": [],
   "source": [
    "sim = NetSim()\n",
    "source = PacketSource.create(sim.ctx, \"Source\", source_profile)\n",
    "# source_shaper = PacketInterfaceTx(sim.ctx, *10**6)\n",
    "# source.subscribe(source_shaper)\n",
    "sw1 = PacketSwitch(sim.ctx, \"SW1\")\n",
    "sw2 = PacketSwitch(sim.ctx, \"SW2\")\n",
    "sink = PacketSink(sim.ctx)\n",
    "\n",
    "# source_shaper.subscribe(sw1.create_interface_rx(0, 0.0))\n",
    "source.subscribe(sw1.create_interface_rx(0, 0.0))\n",
    "\n",
    "sw1.create_interface_tx(1, 4*10**6, 100).subscribe(sw2.create_interface_rx(1, 0.0))\n",
    "\n",
    "sw2.create_interface_tx(0, 10*10**6).subscribe(sink)\n",
    "\n",
    "pp1 = sw1.create_packet_processor()\n",
    "pp2 = sw2.create_packet_processor()\n",
    "\n",
    "sim.run(until_time=until_time)\n",
    "results.append(sw1.stat.cur_stat_frame.total_dropped_pkts/(sink.stat.cur_stat_frame.total_received_pkts + sw1.stat.cur_stat_frame.total_dropped_pkts))"
   ]
  },
  {
   "cell_type": "code",
   "execution_count": null,
   "metadata": {},
   "outputs": [],
   "source": [
    "sim = NetSim()\n",
    "source = PacketSource.create(sim.ctx, \"Source\", source_profile)\n",
    "# source_shaper = PacketInterfaceTx(sim.ctx, *10**6)\n",
    "# source.subscribe(source_shaper)\n",
    "sw1 = PacketSwitch(sim.ctx, \"SW1\")\n",
    "sw2 = PacketSwitch(sim.ctx, \"SW2\")\n",
    "sink = PacketSink(sim.ctx)\n",
    "\n",
    "# source_shaper.subscribe(sw1.create_interface_rx(0, 0.0))\n",
    "source.subscribe(sw1.create_interface_rx(0, 0.0))\n",
    "\n",
    "sw1.create_interface_tx(1, 2*10**6, 100).subscribe(sw2.create_interface_rx(1, 0.0))\n",
    "sw1.create_interface_tx(2, 2*10**6, 100).subscribe(sw2.create_interface_rx(2, 0.0))\n",
    "\n",
    "sw2.create_interface_tx(0, 10*10**6).subscribe(sink)\n",
    "\n",
    "pp1 = sw1.create_packet_processor()\n",
    "pp2 = sw2.create_packet_processor()\n",
    "\n",
    "sim.run(until_time=until_time)\n",
    "results.append(sw1.stat.cur_stat_frame.total_dropped_pkts/(sink.stat.cur_stat_frame.total_received_pkts + sw1.stat.cur_stat_frame.total_dropped_pkts))"
   ]
  },
  {
   "cell_type": "code",
   "execution_count": null,
   "metadata": {},
   "outputs": [],
   "source": [
    "sim = NetSim()\n",
    "source = PacketSource.create(sim.ctx, \"Source\", source_profile)\n",
    "# source_shaper = PacketInterfaceTx(sim.ctx, *10**6)\n",
    "# source.subscribe(source_shaper)\n",
    "sw1 = PacketSwitch(sim.ctx, \"SW1\")\n",
    "sw2 = PacketSwitch(sim.ctx, \"SW2\")\n",
    "sink = PacketSink(sim.ctx)\n",
    "\n",
    "# source_shaper.subscribe(sw1.create_interface_rx(0, 0.0))\n",
    "source.subscribe(sw1.create_interface_rx(0, 0.0))\n",
    "\n",
    "sw1.create_interface_tx(1, 1*10**6, 100).subscribe(sw2.create_interface_rx(1, 0.0))\n",
    "sw1.create_interface_tx(2, 1*10**6, 100).subscribe(sw2.create_interface_rx(2, 0.0))\n",
    "sw1.create_interface_tx(3, 1*10**6, 100).subscribe(sw2.create_interface_rx(3, 0.0))\n",
    "sw1.create_interface_tx(4, 1*10**6, 100).subscribe(sw2.create_interface_rx(4, 0.0))\n",
    "\n",
    "sw2.create_interface_tx(0, 10*10**6).subscribe(sink)\n",
    "\n",
    "pp1 = sw1.create_packet_processor()\n",
    "pp2 = sw2.create_packet_processor()\n",
    "\n",
    "sim.run(until_time=until_time)\n",
    "results.append(sw1.stat.cur_stat_frame.total_dropped_pkts/(sink.stat.cur_stat_frame.total_received_pkts + sw1.stat.cur_stat_frame.total_dropped_pkts))"
   ]
  },
  {
   "cell_type": "code",
   "execution_count": null,
   "metadata": {},
   "outputs": [],
   "source": [
    "sim = NetSim()\n",
    "source = PacketSource.create(sim.ctx, \"Source\", source_profile)\n",
    "# source_shaper = PacketInterfaceTx(sim.ctx, *10**6)\n",
    "# source.subscribe(source_shaper)\n",
    "sw1 = PacketSwitch(sim.ctx, \"SW1\")\n",
    "sw2 = PacketSwitch(sim.ctx, \"SW2\")\n",
    "sink = PacketSink(sim.ctx)\n",
    "\n",
    "# source_shaper.subscribe(sw1.create_interface_rx(0, 0.0))\n",
    "source.subscribe(sw1.create_interface_rx(0, 0.0))\n",
    "\n",
    "sw1.create_interface_tx(1, 0.5*10**6, 100).subscribe(sw2.create_interface_rx(1, 0.0))\n",
    "sw1.create_interface_tx(2, 0.5*10**6, 100).subscribe(sw2.create_interface_rx(2, 0.0))\n",
    "sw1.create_interface_tx(3, 0.5*10**6, 100).subscribe(sw2.create_interface_rx(3, 0.0))\n",
    "sw1.create_interface_tx(4, 0.5*10**6, 100).subscribe(sw2.create_interface_rx(4, 0.0))\n",
    "sw1.create_interface_tx(5, 0.5*10**6, 100).subscribe(sw2.create_interface_rx(5, 0.0))\n",
    "sw1.create_interface_tx(6, 0.5*10**6, 100).subscribe(sw2.create_interface_rx(6, 0.0))\n",
    "sw1.create_interface_tx(7, 0.5*10**6, 100).subscribe(sw2.create_interface_rx(7, 0.0))\n",
    "sw1.create_interface_tx(8, 0.5*10**6, 100).subscribe(sw2.create_interface_rx(8, 0.0))\n",
    "\n",
    "sw2.create_interface_tx(0, 10*10**6).subscribe(sink)\n",
    "\n",
    "pp1 = sw1.create_packet_processor()\n",
    "pp2 = sw2.create_packet_processor()\n",
    "\n",
    "sim.run(until_time=until_time)\n",
    "results.append(sw1.stat.cur_stat_frame.total_dropped_pkts/(sink.stat.cur_stat_frame.total_received_pkts + sw1.stat.cur_stat_frame.total_dropped_pkts))"
   ]
  },
  {
   "cell_type": "code",
   "execution_count": null,
   "metadata": {},
   "outputs": [],
   "source": [
    "sim = NetSim()\n",
    "source = PacketSource.create(sim.ctx, \"Source\", source_profile)\n",
    "# source_shaper = PacketInterfaceTx(sim.ctx, *10**6)\n",
    "# source.subscribe(source_shaper)\n",
    "sw1 = PacketSwitch(sim.ctx, \"SW1\")\n",
    "sw2 = PacketSwitch(sim.ctx, \"SW2\")\n",
    "sink = PacketSink(sim.ctx)\n",
    "\n",
    "# source_shaper.subscribe(sw1.create_interface_rx(0, 0.0))\n",
    "source.subscribe(sw1.create_interface_rx(0, 0.0))\n",
    "\n",
    "sw1.create_interface_tx(1, 0.25*10**6, 100).subscribe(sw2.create_interface_rx(1, 0.0))\n",
    "sw1.create_interface_tx(2, 0.25*10**6, 100).subscribe(sw2.create_interface_rx(2, 0.0))\n",
    "sw1.create_interface_tx(3, 0.25*10**6, 100).subscribe(sw2.create_interface_rx(3, 0.0))\n",
    "sw1.create_interface_tx(4, 0.25*10**6, 100).subscribe(sw2.create_interface_rx(4, 0.0))\n",
    "sw1.create_interface_tx(5, 0.25*10**6, 100).subscribe(sw2.create_interface_rx(5, 0.0))\n",
    "sw1.create_interface_tx(6, 0.25*10**6, 100).subscribe(sw2.create_interface_rx(6, 0.0))\n",
    "sw1.create_interface_tx(7, 0.25*10**6, 100).subscribe(sw2.create_interface_rx(7, 0.0))\n",
    "sw1.create_interface_tx(8, 0.25*10**6, 100).subscribe(sw2.create_interface_rx(8, 0.0))\n",
    "sw1.create_interface_tx(9, 0.25*10**6, 100).subscribe(sw2.create_interface_rx(9, 0.0))\n",
    "sw1.create_interface_tx(10, 0.25*10**6, 100).subscribe(sw2.create_interface_rx(10, 0.0))\n",
    "sw1.create_interface_tx(11, 0.25*10**6, 100).subscribe(sw2.create_interface_rx(11, 0.0))\n",
    "sw1.create_interface_tx(12, 0.25*10**6, 100).subscribe(sw2.create_interface_rx(12, 0.0))\n",
    "sw1.create_interface_tx(13, 0.25*10**6, 100).subscribe(sw2.create_interface_rx(13, 0.0))\n",
    "sw1.create_interface_tx(14, 0.25*10**6, 100).subscribe(sw2.create_interface_rx(14, 0.0))\n",
    "sw1.create_interface_tx(15, 0.25*10**6, 100).subscribe(sw2.create_interface_rx(15, 0.0))\n",
    "sw1.create_interface_tx(16, 0.25*10**6, 100).subscribe(sw2.create_interface_rx(16, 0.0))\n",
    "\n",
    "sw2.create_interface_tx(0, 10*10**6).subscribe(sink)\n",
    "\n",
    "pp1 = sw1.create_packet_processor()\n",
    "pp2 = sw2.create_packet_processor()\n",
    "\n",
    "sim.run(until_time=until_time)\n",
    "results.append(sw1.stat.cur_stat_frame.total_dropped_pkts/(sink.stat.cur_stat_frame.total_received_pkts + sw1.stat.cur_stat_frame.total_dropped_pkts))"
   ]
  },
  {
   "cell_type": "code",
   "execution_count": null,
   "metadata": {},
   "outputs": [],
   "source": [
    "print(results)"
   ]
  }
 ],
 "metadata": {
  "language_info": {
   "name": "python"
  },
  "orig_nbformat": 4
 },
 "nbformat": 4,
 "nbformat_minor": 2
}
