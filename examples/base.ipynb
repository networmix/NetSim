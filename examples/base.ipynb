{
 "cells": [
  {
   "cell_type": "code",
   "execution_count": null,
   "id": "5a417dec",
   "metadata": {},
   "outputs": [],
   "source": [
    "import statistics\n",
    "\n",
    "import pandas as pd\n",
    "import seaborn as sns\n",
    "import matplotlib.pyplot as plt\n",
    "\n",
    "%matplotlib inline\n",
    "sns.set(rc={'figure.figsize':(15,10), 'figure.dpi': 100})"
   ]
  },
  {
   "cell_type": "code",
   "execution_count": null,
   "id": "de23e781",
   "metadata": {},
   "outputs": [],
   "source": [
    "from netsim.simulator.graphlib.graph import MultiDiGraph\n",
    "from netsim.simulator.graphlib.algorithms.spf import spf, min_cost_edges_func_fabric\n",
    "from netsim.workflow import Workflow"
   ]
  },
  {
   "cell_type": "markdown",
   "id": "ed17ef1e",
   "metadata": {},
   "source": [
    "Write your code below"
   ]
  },
  {
   "cell_type": "code",
   "execution_count": null,
   "id": "eb6f0744",
   "metadata": {},
   "outputs": [],
   "source": []
  }
 ],
 "metadata": {
  "language_info": {
   "name": "python"
  }
 },
 "nbformat": 4,
 "nbformat_minor": 5
}
