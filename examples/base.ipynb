{
 "cells": [
  {
   "cell_type": "code",
   "execution_count": null,
   "id": "5a417dec",
   "metadata": {},
   "outputs": [],
   "source": [
    "import pandas as pd\n",
    "import seaborn as sns\n",
    "import matplotlib.pyplot as plt\n",
    "import statistics\n",
    "\n",
    "from netsim.utils import yaml_to_dict\n",
    "from netsim.workflow import Workflow\n",
    "\n",
    "%matplotlib inline\n",
    "sns.set(rc={'figure.figsize':(15,10), 'figure.dpi': 100})"
   ]
  },
  {
   "cell_type": "code",
   "execution_count": null,
   "id": "5cf1d8e9",
   "metadata": {},
   "outputs": [],
   "source": [
    "with open(\"wf_ee509_1_1.yaml\", encoding=\"utf-8\") as f:\n",
    "    blueprint_dict = yaml_to_dict(f.read())"
   ]
  },
  {
   "cell_type": "code",
   "execution_count": null,
   "id": "25f91726",
   "metadata": {},
   "outputs": [],
   "source": [
    "    wf = Workflow.from_dict(blueprint_dict)\n",
    "    wf.run()"
   ]
  }
 ],
 "metadata": {
  "language_info": {
   "name": "python"
  }
 },
 "nbformat": 4,
 "nbformat_minor": 5
}
